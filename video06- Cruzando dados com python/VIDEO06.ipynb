{
 "cells": [
  {
   "cell_type": "code",
   "execution_count": 2,
   "metadata": {},
   "outputs": [],
   "source": [
    "import pandas"
   ]
  },
  {
   "cell_type": "code",
   "execution_count": 3,
   "metadata": {},
   "outputs": [],
   "source": [
    "#importando as bibliotecas\n",
    "import pandas as pd \n",
    "import numpy as np"
   ]
  },
  {
   "cell_type": "code",
   "execution_count": 4,
   "metadata": {},
   "outputs": [],
   "source": [
    "#lendo os arquivos\n",
    "df_operacoes=pd.read_excel('OPERAÇÕES.xlsx')\n",
    "df_eventos=pd.read_excel('EVENTOS.xlsx')"
   ]
  },
  {
   "cell_type": "code",
   "execution_count": 5,
   "metadata": {},
   "outputs": [],
   "source": [
    "df_operacoes=pd.read_csv(r'C:\\Users\\renat\\OneDrive\\Documentos\\Renata\\Estudo\\Trabalho Inteligente\\VÍDEOS\\video06-cruzando_dados_com_python\\OPERAÇÕES.csv', delimiter=';')\n",
    "df_eventos=pd.read_csv(r'C:\\Users\\renat\\OneDrive\\Documentos\\Renata\\Estudo\\Trabalho Inteligente\\VÍDEOS\\video06-cruzando_dados_com_python\\EVENTOS.csv', delimiter=';')\n"
   ]
  },
  {
   "cell_type": "code",
   "execution_count": 6,
   "metadata": {},
   "outputs": [],
   "source": [
    "#cruzando os dados\n",
    "df_consolidado=pd.merge(df_operacoes,df_eventos, on='ID_OPERAÇÃO', how='left')\n"
   ]
  },
  {
   "cell_type": "code",
   "execution_count": 7,
   "metadata": {},
   "outputs": [
    {
     "data": {
      "text/html": [
       "<div>\n",
       "<style scoped>\n",
       "    .dataframe tbody tr th:only-of-type {\n",
       "        vertical-align: middle;\n",
       "    }\n",
       "\n",
       "    .dataframe tbody tr th {\n",
       "        vertical-align: top;\n",
       "    }\n",
       "\n",
       "    .dataframe thead th {\n",
       "        text-align: right;\n",
       "    }\n",
       "</style>\n",
       "<table border=\"1\" class=\"dataframe\">\n",
       "  <thead>\n",
       "    <tr style=\"text-align: right;\">\n",
       "      <th></th>\n",
       "      <th>ID_OPERAÇÃO</th>\n",
       "      <th>PRODUTO</th>\n",
       "      <th>CLIENTE</th>\n",
       "      <th>EVENTO</th>\n",
       "    </tr>\n",
       "  </thead>\n",
       "  <tbody>\n",
       "    <tr>\n",
       "      <td>0</td>\n",
       "      <td>1</td>\n",
       "      <td>IPHONE 13</td>\n",
       "      <td>ANDRÉ</td>\n",
       "      <td>FATURADO</td>\n",
       "    </tr>\n",
       "    <tr>\n",
       "      <td>1</td>\n",
       "      <td>2</td>\n",
       "      <td>MACBOOK AIR M1</td>\n",
       "      <td>ALEXANDRE</td>\n",
       "      <td>NaN</td>\n",
       "    </tr>\n",
       "    <tr>\n",
       "      <td>2</td>\n",
       "      <td>3</td>\n",
       "      <td>APPLE WATCH</td>\n",
       "      <td>RENAN</td>\n",
       "      <td>RECEBIDO PELO CLIENTE</td>\n",
       "    </tr>\n",
       "    <tr>\n",
       "      <td>3</td>\n",
       "      <td>5</td>\n",
       "      <td>IPAD MINI</td>\n",
       "      <td>GABRIEL</td>\n",
       "      <td>EM TRÂNSITO</td>\n",
       "    </tr>\n",
       "  </tbody>\n",
       "</table>\n",
       "</div>"
      ],
      "text/plain": [
       "   ID_OPERAÇÃO         PRODUTO    CLIENTE                 EVENTO\n",
       "0            1       IPHONE 13      ANDRÉ               FATURADO\n",
       "1            2  MACBOOK AIR M1  ALEXANDRE                    NaN\n",
       "2            3     APPLE WATCH      RENAN  RECEBIDO PELO CLIENTE\n",
       "3            5       IPAD MINI    GABRIEL            EM TRÂNSITO"
      ]
     },
     "execution_count": 7,
     "metadata": {},
     "output_type": "execute_result"
    }
   ],
   "source": [
    "df_consolidado"
   ]
  },
  {
   "cell_type": "code",
   "execution_count": 10,
   "metadata": {},
   "outputs": [],
   "source": [
    "#exportando para excel\n",
    "df_consolidado.to_excel('Relatório de Operações.xlsx')"
   ]
  },
  {
   "cell_type": "code",
   "execution_count": null,
   "metadata": {},
   "outputs": [],
   "source": []
  }
 ],
 "metadata": {
  "kernelspec": {
   "display_name": "Python 3",
   "language": "python",
   "name": "python3"
  },
  "language_info": {
   "codemirror_mode": {
    "name": "ipython",
    "version": 3
   },
   "file_extension": ".py",
   "mimetype": "text/x-python",
   "name": "python",
   "nbconvert_exporter": "python",
   "pygments_lexer": "ipython3",
   "version": "3.7.4"
  }
 },
 "nbformat": 4,
 "nbformat_minor": 2
}
