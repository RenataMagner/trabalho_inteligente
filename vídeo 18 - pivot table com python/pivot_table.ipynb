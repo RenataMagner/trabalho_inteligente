{
 "cells": [
  {
   "cell_type": "code",
   "execution_count": 6,
   "id": "ef4d21a9",
   "metadata": {},
   "outputs": [],
   "source": [
    "#importando as bibliotecas\n",
    "import pandas as pd \n",
    "import numpy as np"
   ]
  },
  {
   "cell_type": "code",
   "execution_count": 5,
   "id": "f4ac8a80",
   "metadata": {},
   "outputs": [],
   "source": [
    "#importando as fontes de dados\n",
    "df_operacoes=pd.read_csv('OPERAÇÕES.csv', delimiter=';')\n",
    "df_eventos=pd.read_csv('EVENTOS.csv', delimiter=';')"
   ]
  },
  {
   "cell_type": "code",
   "execution_count": 68,
   "id": "f751f709",
   "metadata": {},
   "outputs": [],
   "source": [
    "#cruzamento as duas tabelas\n",
    "df_consolidado=pd.merge(df_operacoes,df_eventos, on='ID_OPERAÇÃO', how='left')\n",
    "#transformando a coluna valor em numero\n",
    "df_consolidado[\"VALOR\"]=df_consolidado[\"VALOR\"].apply(lambda x:str(x).replace(\".\",\"\"))\n",
    "df_consolidado[\"VALOR\"]=df_consolidado[\"VALOR\"].apply(lambda x:str(x).replace(\",\",\".\"))\n",
    "df_consolidado[\"VALOR\"]=df_consolidado[\"VALOR\"].astype(\"float64\")\n",
    "#transformando a coluna Data em um campo de data\n",
    "df_consolidado[\"Data\"]=pd.to_datetime(df_consolidado[\"Data\"], dayfirst=True)"
   ]
  },
  {
   "cell_type": "code",
   "execution_count": 7,
   "id": "2ea4b137-520a-4866-b14b-3b7ddfd6e01c",
   "metadata": {},
   "outputs": [
    {
     "ename": "NameError",
     "evalue": "name 'df_consolidado' is not defined",
     "output_type": "error",
     "traceback": [
      "\u001b[0;31m---------------------------------------------------------------------------\u001b[0m",
      "\u001b[0;31mNameError\u001b[0m                                 Traceback (most recent call last)",
      "Input \u001b[0;32mIn [7]\u001b[0m, in \u001b[0;36m<cell line: 1>\u001b[0;34m()\u001b[0m\n\u001b[0;32m----> 1\u001b[0m \u001b[43mdf_consolidado\u001b[49m\n",
      "\u001b[0;31mNameError\u001b[0m: name 'df_consolidado' is not defined"
     ]
    }
   ],
   "source": [
    "df_consolidado"
   ]
  },
  {
   "cell_type": "code",
   "execution_count": 70,
   "id": "da4334da",
   "metadata": {},
   "outputs": [
    {
     "data": {
      "text/html": [
       "<div>\n",
       "<style scoped>\n",
       "    .dataframe tbody tr th:only-of-type {\n",
       "        vertical-align: middle;\n",
       "    }\n",
       "\n",
       "    .dataframe tbody tr th {\n",
       "        vertical-align: top;\n",
       "    }\n",
       "\n",
       "    .dataframe thead th {\n",
       "        text-align: right;\n",
       "    }\n",
       "</style>\n",
       "<table border=\"1\" class=\"dataframe\">\n",
       "  <thead>\n",
       "    <tr style=\"text-align: right;\">\n",
       "      <th></th>\n",
       "      <th>ID_OPERAÇÃO</th>\n",
       "    </tr>\n",
       "    <tr>\n",
       "      <th>EVENTO</th>\n",
       "      <th></th>\n",
       "    </tr>\n",
       "  </thead>\n",
       "  <tbody>\n",
       "    <tr>\n",
       "      <th>EM TRÂNSITO</th>\n",
       "      <td>1</td>\n",
       "    </tr>\n",
       "    <tr>\n",
       "      <th>FATURADO</th>\n",
       "      <td>3</td>\n",
       "    </tr>\n",
       "    <tr>\n",
       "      <th>RECEBIDO PELO CLIENTE</th>\n",
       "      <td>2</td>\n",
       "    </tr>\n",
       "  </tbody>\n",
       "</table>\n",
       "</div>"
      ],
      "text/plain": [
       "                       ID_OPERAÇÃO\n",
       "EVENTO                            \n",
       "EM TRÂNSITO                      1\n",
       "FATURADO                         3\n",
       "RECEBIDO PELO CLIENTE            2"
      ]
     },
     "execution_count": 70,
     "metadata": {},
     "output_type": "execute_result"
    }
   ],
   "source": [
    "#criando tabela dinamica para obter a quantidade de operções por status\n",
    "tabela_dinamica=pd.pivot_table(df_consolidado,values=\"ID_OPERAÇÃO\",index=\"EVENTO\", aggfunc=np.count_nonzero)\n",
    "tabela_dinamica"
   ]
  },
  {
   "cell_type": "code",
   "execution_count": 71,
   "id": "e0bf88d0-7789-4bcb-925a-b9ffc643a5bb",
   "metadata": {},
   "outputs": [
    {
     "data": {
      "text/html": [
       "<div>\n",
       "<style scoped>\n",
       "    .dataframe tbody tr th:only-of-type {\n",
       "        vertical-align: middle;\n",
       "    }\n",
       "\n",
       "    .dataframe tbody tr th {\n",
       "        vertical-align: top;\n",
       "    }\n",
       "\n",
       "    .dataframe thead th {\n",
       "        text-align: right;\n",
       "    }\n",
       "</style>\n",
       "<table border=\"1\" class=\"dataframe\">\n",
       "  <thead>\n",
       "    <tr style=\"text-align: right;\">\n",
       "      <th></th>\n",
       "      <th>VALOR</th>\n",
       "    </tr>\n",
       "    <tr>\n",
       "      <th>Data</th>\n",
       "      <th></th>\n",
       "    </tr>\n",
       "  </thead>\n",
       "  <tbody>\n",
       "    <tr>\n",
       "      <th>2022-09-30</th>\n",
       "      <td>2000.0</td>\n",
       "    </tr>\n",
       "    <tr>\n",
       "      <th>2022-10-31</th>\n",
       "      <td>11000.0</td>\n",
       "    </tr>\n",
       "    <tr>\n",
       "      <th>2022-11-30</th>\n",
       "      <td>15000.0</td>\n",
       "    </tr>\n",
       "  </tbody>\n",
       "</table>\n",
       "</div>"
      ],
      "text/plain": [
       "              VALOR\n",
       "Data               \n",
       "2022-09-30   2000.0\n",
       "2022-10-31  11000.0\n",
       "2022-11-30  15000.0"
      ]
     },
     "execution_count": 71,
     "metadata": {},
     "output_type": "execute_result"
    }
   ],
   "source": [
    "#criando tabela dinamica para obter a total de vendas por mës\n",
    "tabela_dinamica=pd.pivot_table(df_consolidado,values=\"VALOR\",index=pd.Grouper(freq=\"M\", key=\"Data\"),aggfunc=np.sum)\n",
    "tabela_dinamica"
   ]
  },
  {
   "cell_type": "code",
   "execution_count": 72,
   "id": "08d6af67",
   "metadata": {},
   "outputs": [
    {
     "data": {
      "text/html": [
       "<div>\n",
       "<style scoped>\n",
       "    .dataframe tbody tr th:only-of-type {\n",
       "        vertical-align: middle;\n",
       "    }\n",
       "\n",
       "    .dataframe tbody tr th {\n",
       "        vertical-align: top;\n",
       "    }\n",
       "\n",
       "    .dataframe thead th {\n",
       "        text-align: right;\n",
       "    }\n",
       "</style>\n",
       "<table border=\"1\" class=\"dataframe\">\n",
       "  <thead>\n",
       "    <tr style=\"text-align: right;\">\n",
       "      <th></th>\n",
       "      <th>VALOR</th>\n",
       "    </tr>\n",
       "    <tr>\n",
       "      <th>EVENTO</th>\n",
       "      <th></th>\n",
       "    </tr>\n",
       "  </thead>\n",
       "  <tbody>\n",
       "    <tr>\n",
       "      <th>EM TRÂNSITO</th>\n",
       "      <td>3500.0</td>\n",
       "    </tr>\n",
       "    <tr>\n",
       "      <th>FATURADO</th>\n",
       "      <td>14500.0</td>\n",
       "    </tr>\n",
       "    <tr>\n",
       "      <th>RECEBIDO PELO CLIENTE</th>\n",
       "      <td>4000.0</td>\n",
       "    </tr>\n",
       "  </tbody>\n",
       "</table>\n",
       "</div>"
      ],
      "text/plain": [
       "                         VALOR\n",
       "EVENTO                        \n",
       "EM TRÂNSITO             3500.0\n",
       "FATURADO               14500.0\n",
       "RECEBIDO PELO CLIENTE   4000.0"
      ]
     },
     "execution_count": 72,
     "metadata": {},
     "output_type": "execute_result"
    }
   ],
   "source": [
    "#criando tabela dinamica para obter a total de vendas por status\n",
    "tabela_dinamica=pd.pivot_table(df_consolidado,values=\"VALOR\",index=\"EVENTO\", aggfunc=np.sum)\n",
    "tabela_dinamica"
   ]
  },
  {
   "cell_type": "code",
   "execution_count": null,
   "id": "969b897a-11e3-4881-89c5-61546cfc20f7",
   "metadata": {},
   "outputs": [],
   "source": [
    "tabela_dinamica=pd.pivot_table(df_consolidado,valures"
   ]
  },
  {
   "cell_type": "code",
   "execution_count": null,
   "id": "3002bc0e-413c-4c9a-9c39-f390db239947",
   "metadata": {},
   "outputs": [],
   "source": []
  }
 ],
 "metadata": {
  "kernelspec": {
   "display_name": "Python 3 (ipykernel)",
   "language": "python",
   "name": "python3"
  },
  "language_info": {
   "codemirror_mode": {
    "name": "ipython",
    "version": 3
   },
   "file_extension": ".py",
   "mimetype": "text/x-python",
   "name": "python",
   "nbconvert_exporter": "python",
   "pygments_lexer": "ipython3",
   "version": "3.9.12"
  }
 },
 "nbformat": 4,
 "nbformat_minor": 5
}
